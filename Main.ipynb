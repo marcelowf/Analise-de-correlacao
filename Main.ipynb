import pandas as pd
import numpy as np
import matplotlib.pyplot as plt

def coef_correlacao(df, col1, col2):
    coeficiente = df[col1].corr(df[col2])
    return coeficiente

def plot(df, col1, col2):
    plt.scatter(df[col1], df[col2])
    plt.xlabel(col1)
    plt.ylabel(col2)
    plt.title(f'Diagrama de Dispersão entre {col1} e {col2}')
    plt.show()

def plot_tabela(data, title):
    fig, ax = plt.subplots()
    ax.axis('off')
    ax.table(cellText=data.values, colLabels=data.columns, loc='center')
    ax.set_title(title)
    plt.show()

def coef_diagrama(correlation_matrix):
    plot_tabela(correlation_matrix, 'Matriz de Correlação')

def main():
    df = pd.read_csv('Dados.csv')
    selected_columns = ['highway-mpg','normalized-losses', 'wheel-base', 'engine-size', 'bore', 'compression-ratio']
    df_selected = df[selected_columns]
    correlation_matrix = df_selected.corr()

    for pair in [('normalized-losses', 'wheel-base'), ('engine-size', 'highway-mpg'), ('bore', 'compression-ratio')]:
        plot(df, pair[0], pair[1])
        coeficiente = coef_correlacao(df, pair[0], pair[1])
        plot_tabela(pd.DataFrame({'Par de Variáveis': [f'{pair[0]} e {pair[1]}'], 'Coef. de Correlação': [coeficiente]}), 'Coeficiente de Correlação')

    coef_diagrama(correlation_matrix)

if __name__ == "__main__":
    main()
